{
  "nbformat": 4,
  "nbformat_minor": 0,
  "metadata": {
    "colab": {
      "provenance": [],
      "authorship_tag": "ABX9TyMqtVlwvTRvZEpF7Z1s2yBv",
      "include_colab_link": true
    },
    "kernelspec": {
      "name": "python3",
      "display_name": "Python 3"
    },
    "language_info": {
      "name": "python"
    }
  },
  "cells": [
    {
      "cell_type": "markdown",
      "metadata": {
        "id": "view-in-github",
        "colab_type": "text"
      },
      "source": [
        "<a href=\"https://colab.research.google.com/github/lientzubob/python_basic/blob/main/list_comprehension.ipynb\" target=\"_parent\"><img src=\"https://colab.research.google.com/assets/colab-badge.svg\" alt=\"Open In Colab\"/></a>"
      ]
    },
    {
      "cell_type": "code",
      "execution_count": 1,
      "metadata": {
        "colab": {
          "base_uri": "https://localhost:8080/"
        },
        "id": "I2XP7iTAf-mW",
        "outputId": "9a3cf507-1727-4f6e-b250-4012b0d9cab8"
      },
      "outputs": [
        {
          "output_type": "execute_result",
          "data": {
            "text/plain": [
              "['DDDD', 'EEEEE']"
            ]
          },
          "metadata": {},
          "execution_count": 1
        }
      ],
      "source": [
        "strings = ['aaa', 'bb', 'c', 'dddd', 'eeeee', 'fff', 'ggg']\n",
        "[x.upper() for x in strings if len(x) > 3]"
      ]
    },
    {
      "cell_type": "code",
      "source": [
        "{len(x) for x in strings}"
      ],
      "metadata": {
        "colab": {
          "base_uri": "https://localhost:8080/"
        },
        "id": "_1sVwlg_gmRS",
        "outputId": "063730c1-9ffc-4796-ebbf-b2e4460267e4"
      },
      "execution_count": 2,
      "outputs": [
        {
          "output_type": "execute_result",
          "data": {
            "text/plain": [
              "{1, 2, 3, 4, 5}"
            ]
          },
          "metadata": {},
          "execution_count": 2
        }
      ]
    },
    {
      "cell_type": "code",
      "source": [
        "set(map(len, strings))"
      ],
      "metadata": {
        "colab": {
          "base_uri": "https://localhost:8080/"
        },
        "id": "U-TRw4TKgtJq",
        "outputId": "9cf6a540-f90a-47fe-a20c-0167763a0594"
      },
      "execution_count": 5,
      "outputs": [
        {
          "output_type": "execute_result",
          "data": {
            "text/plain": [
              "{1, 2, 3, 4, 5}"
            ]
          },
          "metadata": {},
          "execution_count": 5
        }
      ]
    },
    {
      "cell_type": "code",
      "source": [
        "{index: value for index, value in enumerate(strings)}"
      ],
      "metadata": {
        "colab": {
          "base_uri": "https://localhost:8080/"
        },
        "id": "mnN6zQJTg8tH",
        "outputId": "d4434b46-ada2-48dd-9da7-b08d0169c2aa"
      },
      "execution_count": 6,
      "outputs": [
        {
          "output_type": "execute_result",
          "data": {
            "text/plain": [
              "{0: 'aaa', 1: 'bb', 2: 'c', 3: 'dddd', 4: 'eeeee', 5: 'fff', 6: 'ggg'}"
            ]
          },
          "metadata": {},
          "execution_count": 6
        }
      ]
    },
    {
      "cell_type": "code",
      "source": [
        "string_list = [['aaa', 'bb', 'c'], ['dddd', 'eeeee'], ['fff', 'ggg']]\n",
        "[x for tup in string_list for x in tup]"
      ],
      "metadata": {
        "colab": {
          "base_uri": "https://localhost:8080/"
        },
        "id": "WzP2tjz-hTqB",
        "outputId": "97f32058-c8e4-4d9f-bab3-2c2af8d63db2"
      },
      "execution_count": 8,
      "outputs": [
        {
          "output_type": "execute_result",
          "data": {
            "text/plain": [
              "['aaa', 'bb', 'c', 'dddd', 'eeeee', 'fff', 'ggg']"
            ]
          },
          "metadata": {},
          "execution_count": 8
        }
      ]
    },
    {
      "cell_type": "code",
      "source": [],
      "metadata": {
        "id": "asntDtL9iExL"
      },
      "execution_count": null,
      "outputs": []
    }
  ]
}