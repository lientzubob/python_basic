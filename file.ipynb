{
  "nbformat": 4,
  "nbformat_minor": 0,
  "metadata": {
    "colab": {
      "provenance": [],
      "authorship_tag": "ABX9TyMys6w/BmXAg5k2qoerjyL+",
      "include_colab_link": true
    },
    "kernelspec": {
      "name": "python3",
      "display_name": "Python 3"
    },
    "language_info": {
      "name": "python"
    }
  },
  "cells": [
    {
      "cell_type": "markdown",
      "metadata": {
        "id": "view-in-github",
        "colab_type": "text"
      },
      "source": [
        "<a href=\"https://colab.research.google.com/github/lientzubob/python_basic/blob/main/file.ipynb\" target=\"_parent\"><img src=\"https://colab.research.google.com/assets/colab-badge.svg\" alt=\"Open In Colab\"/></a>"
      ]
    },
    {
      "cell_type": "code",
      "execution_count": 1,
      "metadata": {
        "colab": {
          "base_uri": "https://localhost:8080/"
        },
        "id": "8-qDWMYYOI3_",
        "outputId": "01857871-2d00-4b97-e9bf-59b1ff5feb38"
      },
      "outputs": [
        {
          "output_type": "stream",
          "name": "stdout",
          "text": [
            "--2023-08-04 15:45:09--  https://raw.githubusercontent.com/wesm/pydata-book/3rd-edition/examples/segismundo.txt\n",
            "Resolving raw.githubusercontent.com (raw.githubusercontent.com)... 185.199.111.133, 185.199.110.133, 185.199.109.133, ...\n",
            "Connecting to raw.githubusercontent.com (raw.githubusercontent.com)|185.199.111.133|:443... connected.\n",
            "HTTP request sent, awaiting response... 200 OK\n",
            "Length: 296 [text/plain]\n",
            "Saving to: ‘segismundo.txt’\n",
            "\n",
            "\rsegismundo.txt        0%[                    ]       0  --.-KB/s               \rsegismundo.txt      100%[===================>]     296  --.-KB/s    in 0s      \n",
            "\n",
            "2023-08-04 15:45:09 (12.5 MB/s) - ‘segismundo.txt’ saved [296/296]\n",
            "\n"
          ]
        }
      ],
      "source": [
        "!wget https://raw.githubusercontent.com/wesm/pydata-book/3rd-edition/examples/segismundo.txt"
      ]
    },
    {
      "cell_type": "code",
      "source": [
        "path = \"segismundo.txt\"\n",
        "lines = [x.rstrip() for x in open(path)]\n",
        "print(lines)"
      ],
      "metadata": {
        "colab": {
          "base_uri": "https://localhost:8080/"
        },
        "id": "c1QA7ot6OUBn",
        "outputId": "ed3e03b6-0031-4ab8-8c8b-f2448c793c5f"
      },
      "execution_count": 3,
      "outputs": [
        {
          "output_type": "stream",
          "name": "stdout",
          "text": [
            "['Sueña el rico en su riqueza,', 'que más cuidados le ofrece;', '', 'sueña el pobre que padece', 'su miseria y su pobreza;', '', 'sueña el que a medrar empieza,', 'sueña el que afana y pretende,', 'sueña el que agravia y ofende,', '', 'y en el mundo, en conclusión,', 'todos sueñan lo que son,', 'aunque ninguno lo entiende.', '']\n"
          ]
        }
      ]
    },
    {
      "cell_type": "code",
      "source": [],
      "metadata": {
        "id": "iV4AZTFpOi20"
      },
      "execution_count": null,
      "outputs": []
    }
  ]
}